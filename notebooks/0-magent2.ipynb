{
 "cells": [
  {
   "metadata": {},
   "cell_type": "markdown",
   "source": "# Experimenting with MAgent2 Environment",
   "id": "2a134a631d9a99a4"
  },
  {
   "metadata": {
    "ExecuteTime": {
     "end_time": "2024-12-03T21:42:28.498709Z",
     "start_time": "2024-12-03T21:42:28.493549Z"
    }
   },
   "cell_type": "code",
   "source": [
    "from magent2.environments import battle_v4\n",
    "import numpy as np\n"
   ],
   "id": "de2c7075cdfe66ba",
   "outputs": [],
   "execution_count": 15
  },
  {
   "metadata": {
    "ExecuteTime": {
     "end_time": "2024-12-03T19:47:48.726241Z",
     "start_time": "2024-12-03T19:47:20.197270Z"
    }
   },
   "cell_type": "code",
   "source": [
    "\n",
    "\n",
    "env = battle_v4.env(map_size=20, render_mode='human', max_cycles=100000)\n",
    "env.reset()\n",
    "for agent in env.agent_iter():\n",
    "    observation, reward, termination, truncation, info = env.last()\n",
    "    if  termination or truncation:\n",
    "        env.step(None)\n",
    "    else:\n",
    "        action = env.action_space(agent).sample()\n",
    "        env.step(action)\n",
    "\n",
    "    # If a team all terminated, break\n",
    "\n",
    "env.close()"
   ],
   "id": "3422c286b7137e69",
   "outputs": [
    {
     "ename": "KeyboardInterrupt",
     "evalue": "",
     "output_type": "error",
     "traceback": [
      "\u001B[0;31m---------------------------------------------------------------------------\u001B[0m",
      "\u001B[0;31mKeyboardInterrupt\u001B[0m                         Traceback (most recent call last)",
      "Cell \u001B[0;32mIn[1], line 11\u001B[0m\n\u001B[1;32m      9\u001B[0m     \u001B[38;5;28;01melse\u001B[39;00m:\n\u001B[1;32m     10\u001B[0m         action \u001B[38;5;241m=\u001B[39m env\u001B[38;5;241m.\u001B[39maction_space(agent)\u001B[38;5;241m.\u001B[39msample()\n\u001B[0;32m---> 11\u001B[0m         \u001B[43menv\u001B[49m\u001B[38;5;241;43m.\u001B[39;49m\u001B[43mstep\u001B[49m\u001B[43m(\u001B[49m\u001B[43maction\u001B[49m\u001B[43m)\u001B[49m\n\u001B[1;32m     13\u001B[0m     \u001B[38;5;66;03m# If a team all terminated, break\u001B[39;00m\n\u001B[1;32m     15\u001B[0m env\u001B[38;5;241m.\u001B[39mclose()\n",
      "File \u001B[0;32m/opt/miniconda3/envs/cmarl/lib/python3.9/site-packages/pettingzoo/utils/wrappers/order_enforcing.py:75\u001B[0m, in \u001B[0;36mOrderEnforcingWrapper.step\u001B[0;34m(self, action)\u001B[0m\n\u001B[1;32m     73\u001B[0m \u001B[38;5;28;01melse\u001B[39;00m:\n\u001B[1;32m     74\u001B[0m     \u001B[38;5;28mself\u001B[39m\u001B[38;5;241m.\u001B[39m_has_updated \u001B[38;5;241m=\u001B[39m \u001B[38;5;28;01mTrue\u001B[39;00m\n\u001B[0;32m---> 75\u001B[0m     \u001B[38;5;28;43msuper\u001B[39;49m\u001B[43m(\u001B[49m\u001B[43m)\u001B[49m\u001B[38;5;241;43m.\u001B[39;49m\u001B[43mstep\u001B[49m\u001B[43m(\u001B[49m\u001B[43maction\u001B[49m\u001B[43m)\u001B[49m\n",
      "File \u001B[0;32m/opt/miniconda3/envs/cmarl/lib/python3.9/site-packages/pettingzoo/utils/wrappers/base.py:108\u001B[0m, in \u001B[0;36mBaseWrapper.step\u001B[0;34m(self, action)\u001B[0m\n\u001B[1;32m    107\u001B[0m \u001B[38;5;28;01mdef\u001B[39;00m \u001B[38;5;21mstep\u001B[39m(\u001B[38;5;28mself\u001B[39m, action):\n\u001B[0;32m--> 108\u001B[0m     \u001B[38;5;28;43mself\u001B[39;49m\u001B[38;5;241;43m.\u001B[39;49m\u001B[43menv\u001B[49m\u001B[38;5;241;43m.\u001B[39;49m\u001B[43mstep\u001B[49m\u001B[43m(\u001B[49m\u001B[43maction\u001B[49m\u001B[43m)\u001B[49m\n\u001B[1;32m    110\u001B[0m     \u001B[38;5;28mself\u001B[39m\u001B[38;5;241m.\u001B[39magent_selection \u001B[38;5;241m=\u001B[39m \u001B[38;5;28mself\u001B[39m\u001B[38;5;241m.\u001B[39menv\u001B[38;5;241m.\u001B[39magent_selection\n\u001B[1;32m    111\u001B[0m     \u001B[38;5;28mself\u001B[39m\u001B[38;5;241m.\u001B[39mrewards \u001B[38;5;241m=\u001B[39m \u001B[38;5;28mself\u001B[39m\u001B[38;5;241m.\u001B[39menv\u001B[38;5;241m.\u001B[39mrewards\n",
      "File \u001B[0;32m/opt/miniconda3/envs/cmarl/lib/python3.9/site-packages/pettingzoo/utils/wrappers/assert_out_of_bounds.py:26\u001B[0m, in \u001B[0;36mAssertOutOfBoundsWrapper.step\u001B[0;34m(self, action)\u001B[0m\n\u001B[1;32m     16\u001B[0m \u001B[38;5;28;01mdef\u001B[39;00m \u001B[38;5;21mstep\u001B[39m(\u001B[38;5;28mself\u001B[39m, action):\n\u001B[1;32m     17\u001B[0m     \u001B[38;5;28;01massert\u001B[39;00m (\n\u001B[1;32m     18\u001B[0m         action \u001B[38;5;129;01mis\u001B[39;00m \u001B[38;5;28;01mNone\u001B[39;00m\n\u001B[1;32m     19\u001B[0m         \u001B[38;5;129;01mand\u001B[39;00m (\n\u001B[0;32m   (...)\u001B[0m\n\u001B[1;32m     24\u001B[0m         action\n\u001B[1;32m     25\u001B[0m     ), \u001B[38;5;124m\"\u001B[39m\u001B[38;5;124maction is not in action space\u001B[39m\u001B[38;5;124m\"\u001B[39m\n\u001B[0;32m---> 26\u001B[0m     \u001B[38;5;28;43msuper\u001B[39;49m\u001B[43m(\u001B[49m\u001B[43m)\u001B[49m\u001B[38;5;241;43m.\u001B[39;49m\u001B[43mstep\u001B[49m\u001B[43m(\u001B[49m\u001B[43maction\u001B[49m\u001B[43m)\u001B[49m\n",
      "File \u001B[0;32m/opt/miniconda3/envs/cmarl/lib/python3.9/site-packages/pettingzoo/utils/wrappers/base.py:108\u001B[0m, in \u001B[0;36mBaseWrapper.step\u001B[0;34m(self, action)\u001B[0m\n\u001B[1;32m    107\u001B[0m \u001B[38;5;28;01mdef\u001B[39;00m \u001B[38;5;21mstep\u001B[39m(\u001B[38;5;28mself\u001B[39m, action):\n\u001B[0;32m--> 108\u001B[0m     \u001B[38;5;28;43mself\u001B[39;49m\u001B[38;5;241;43m.\u001B[39;49m\u001B[43menv\u001B[49m\u001B[38;5;241;43m.\u001B[39;49m\u001B[43mstep\u001B[49m\u001B[43m(\u001B[49m\u001B[43maction\u001B[49m\u001B[43m)\u001B[49m\n\u001B[1;32m    110\u001B[0m     \u001B[38;5;28mself\u001B[39m\u001B[38;5;241m.\u001B[39magent_selection \u001B[38;5;241m=\u001B[39m \u001B[38;5;28mself\u001B[39m\u001B[38;5;241m.\u001B[39menv\u001B[38;5;241m.\u001B[39magent_selection\n\u001B[1;32m    111\u001B[0m     \u001B[38;5;28mself\u001B[39m\u001B[38;5;241m.\u001B[39mrewards \u001B[38;5;241m=\u001B[39m \u001B[38;5;28mself\u001B[39m\u001B[38;5;241m.\u001B[39menv\u001B[38;5;241m.\u001B[39mrewards\n",
      "File \u001B[0;32m/opt/miniconda3/envs/cmarl/lib/python3.9/site-packages/pettingzoo/utils/conversions.py:292\u001B[0m, in \u001B[0;36mparallel_to_aec_wrapper.step\u001B[0;34m(self, action)\u001B[0m\n\u001B[1;32m    290\u001B[0m \u001B[38;5;28mself\u001B[39m\u001B[38;5;241m.\u001B[39m_actions[\u001B[38;5;28mself\u001B[39m\u001B[38;5;241m.\u001B[39magent_selection] \u001B[38;5;241m=\u001B[39m action\n\u001B[1;32m    291\u001B[0m \u001B[38;5;28;01mif\u001B[39;00m \u001B[38;5;28mself\u001B[39m\u001B[38;5;241m.\u001B[39m_agent_selector\u001B[38;5;241m.\u001B[39mis_last():\n\u001B[0;32m--> 292\u001B[0m     obss, rews, terminations, truncations, infos \u001B[38;5;241m=\u001B[39m \u001B[38;5;28;43mself\u001B[39;49m\u001B[38;5;241;43m.\u001B[39;49m\u001B[43menv\u001B[49m\u001B[38;5;241;43m.\u001B[39;49m\u001B[43mstep\u001B[49m\u001B[43m(\u001B[49m\u001B[38;5;28;43mself\u001B[39;49m\u001B[38;5;241;43m.\u001B[39;49m\u001B[43m_actions\u001B[49m\u001B[43m)\u001B[49m\n\u001B[1;32m    294\u001B[0m     \u001B[38;5;28mself\u001B[39m\u001B[38;5;241m.\u001B[39m_observations \u001B[38;5;241m=\u001B[39m copy\u001B[38;5;241m.\u001B[39mcopy(obss)\n\u001B[1;32m    295\u001B[0m     \u001B[38;5;28mself\u001B[39m\u001B[38;5;241m.\u001B[39mterminations \u001B[38;5;241m=\u001B[39m copy\u001B[38;5;241m.\u001B[39mcopy(terminations)\n",
      "File \u001B[0;32m/opt/miniconda3/envs/cmarl/lib/python3.9/site-packages/magent2/environments/magent_env.py:289\u001B[0m, in \u001B[0;36mmagent_parallel_env.step\u001B[0;34m(self, all_actions)\u001B[0m\n\u001B[1;32m    282\u001B[0m \u001B[38;5;28mself\u001B[39m\u001B[38;5;241m.\u001B[39magents \u001B[38;5;241m=\u001B[39m [\n\u001B[1;32m    283\u001B[0m     agent\n\u001B[1;32m    284\u001B[0m     \u001B[38;5;28;01mfor\u001B[39;00m agent \u001B[38;5;129;01min\u001B[39;00m \u001B[38;5;28mself\u001B[39m\u001B[38;5;241m.\u001B[39magents\n\u001B[1;32m    285\u001B[0m     \u001B[38;5;28;01mif\u001B[39;00m \u001B[38;5;129;01mnot\u001B[39;00m (terminations[agent] \u001B[38;5;129;01mor\u001B[39;00m truncations[agent])\n\u001B[1;32m    286\u001B[0m ]\n\u001B[1;32m    288\u001B[0m \u001B[38;5;28;01mif\u001B[39;00m \u001B[38;5;28mself\u001B[39m\u001B[38;5;241m.\u001B[39mrender_mode \u001B[38;5;241m==\u001B[39m \u001B[38;5;124m\"\u001B[39m\u001B[38;5;124mhuman\u001B[39m\u001B[38;5;124m\"\u001B[39m:\n\u001B[0;32m--> 289\u001B[0m     \u001B[38;5;28;43mself\u001B[39;49m\u001B[38;5;241;43m.\u001B[39;49m\u001B[43mrender\u001B[49m\u001B[43m(\u001B[49m\u001B[43m)\u001B[49m\n\u001B[1;32m    290\u001B[0m \u001B[38;5;28;01mreturn\u001B[39;00m observations, rewards, terminations, truncations, infos\n",
      "File \u001B[0;32m/opt/miniconda3/envs/cmarl/lib/python3.9/site-packages/magent2/environments/magent_env.py:153\u001B[0m, in \u001B[0;36mmagent_parallel_env.render\u001B[0;34m(self)\u001B[0m\n\u001B[1;32m    149\u001B[0m     \u001B[38;5;28mself\u001B[39m\u001B[38;5;241m.\u001B[39m_renderer \u001B[38;5;241m=\u001B[39m Renderer(\u001B[38;5;28mself\u001B[39m\u001B[38;5;241m.\u001B[39menv, \u001B[38;5;28mself\u001B[39m\u001B[38;5;241m.\u001B[39mmap_size, \u001B[38;5;28mself\u001B[39m\u001B[38;5;241m.\u001B[39mrender_mode)\n\u001B[1;32m    150\u001B[0m \u001B[38;5;28;01massert\u001B[39;00m (\n\u001B[1;32m    151\u001B[0m     \u001B[38;5;28mself\u001B[39m\u001B[38;5;241m.\u001B[39mrender_mode \u001B[38;5;241m==\u001B[39m \u001B[38;5;28mself\u001B[39m\u001B[38;5;241m.\u001B[39m_renderer\u001B[38;5;241m.\u001B[39mmode\n\u001B[1;32m    152\u001B[0m ), \u001B[38;5;124m\"\u001B[39m\u001B[38;5;124mmode must be consistent across render calls\u001B[39m\u001B[38;5;124m\"\u001B[39m\n\u001B[0;32m--> 153\u001B[0m \u001B[38;5;28;01mreturn\u001B[39;00m \u001B[38;5;28;43mself\u001B[39;49m\u001B[38;5;241;43m.\u001B[39;49m\u001B[43m_renderer\u001B[49m\u001B[38;5;241;43m.\u001B[39;49m\u001B[43mrender\u001B[49m\u001B[43m(\u001B[49m\u001B[38;5;28;43mself\u001B[39;49m\u001B[38;5;241;43m.\u001B[39;49m\u001B[43mrender_mode\u001B[49m\u001B[43m)\u001B[49m\n",
      "File \u001B[0;32m/opt/miniconda3/envs/cmarl/lib/python3.9/site-packages/magent2/render.py:332\u001B[0m, in \u001B[0;36mRenderer.render\u001B[0;34m(self, mode)\u001B[0m\n\u001B[1;32m    330\u001B[0m \u001B[38;5;28;01mdel\u001B[39;00m observation\n\u001B[1;32m    331\u001B[0m \u001B[38;5;28;01mif\u001B[39;00m \u001B[38;5;28mself\u001B[39m\u001B[38;5;241m.\u001B[39mmode \u001B[38;5;241m==\u001B[39m \u001B[38;5;124m\"\u001B[39m\u001B[38;5;124mhuman\u001B[39m\u001B[38;5;124m\"\u001B[39m:\n\u001B[0;32m--> 332\u001B[0m     \u001B[43mpygame\u001B[49m\u001B[38;5;241;43m.\u001B[39;49m\u001B[43mdisplay\u001B[49m\u001B[38;5;241;43m.\u001B[39;49m\u001B[43mflip\u001B[49m\u001B[43m(\u001B[49m\u001B[43m)\u001B[49m\n\u001B[1;32m    333\u001B[0m \u001B[38;5;28;01mreturn\u001B[39;00m (\n\u001B[1;32m    334\u001B[0m     np\u001B[38;5;241m.\u001B[39mtranspose(new_observation, axes\u001B[38;5;241m=\u001B[39m(\u001B[38;5;241m1\u001B[39m, \u001B[38;5;241m0\u001B[39m, \u001B[38;5;241m2\u001B[39m))\n\u001B[1;32m    335\u001B[0m     \u001B[38;5;28;01mif\u001B[39;00m mode \u001B[38;5;241m==\u001B[39m \u001B[38;5;124m\"\u001B[39m\u001B[38;5;124mrgb_array\u001B[39m\u001B[38;5;124m\"\u001B[39m\n\u001B[1;32m    336\u001B[0m     \u001B[38;5;28;01melse\u001B[39;00m \u001B[38;5;28;01mNone\u001B[39;00m\n\u001B[1;32m    337\u001B[0m )\n",
      "\u001B[0;31mKeyboardInterrupt\u001B[0m: "
     ]
    }
   ],
   "execution_count": 1
  },
  {
   "metadata": {
    "ExecuteTime": {
     "end_time": "2024-12-03T21:51:44.316507Z",
     "start_time": "2024-12-03T21:51:44.306639Z"
    }
   },
   "cell_type": "code",
   "source": [
    "env = battle_v4.env(map_size=45, render_mode=\"rgb_array\", max_cycles=100000)\n",
    "env.observation_spaces\n",
    "\n",
    "from functools import reduce\n",
    "env.observation_spaces['red_0'].shape\n",
    "reduce((lambda x, y: x * y), env.observation_spaces['red_0'].shape)\n",
    "# env.observation_space('red_0').sample().flatten().shape"
   ],
   "id": "d91ce008f63cafe6",
   "outputs": [
    {
     "data": {
      "text/plain": [
       "845"
      ]
     },
     "execution_count": 38,
     "metadata": {},
     "output_type": "execute_result"
    }
   ],
   "execution_count": 38
  },
  {
   "metadata": {
    "ExecuteTime": {
     "end_time": "2024-12-03T22:38:02.683845Z",
     "start_time": "2024-12-03T22:38:02.680377Z"
    }
   },
   "cell_type": "code",
   "source": [
    "env.reset()\n",
    "env.action_spaces['red_0'].n\n",
    "type (env)\n"
   ],
   "id": "7b979e7b3f2e19f1",
   "outputs": [
    {
     "data": {
      "text/plain": [
       "pettingzoo.utils.wrappers.order_enforcing.OrderEnforcingWrapper"
      ]
     },
     "execution_count": 46,
     "metadata": {},
     "output_type": "execute_result"
    }
   ],
   "execution_count": 46
  },
  {
   "metadata": {},
   "cell_type": "markdown",
   "source": "## Parallel API",
   "id": "2cdd348452c45711"
  },
  {
   "metadata": {
    "ExecuteTime": {
     "end_time": "2024-11-19T20:39:29.752245Z",
     "start_time": "2024-11-19T20:35:54.337155Z"
    }
   },
   "cell_type": "code",
   "source": [
    "from magent2.environments import battle_v4\n",
    "env = battle_v4.parallel_env(map_size=20, render_mode='human', max_cycles=100000)\n",
    "env.reset()\n",
    "\n",
    "terminated_agents = set()\n",
    "while env.agents:\n",
    "    actions = {agent: env.action_space(agent).sample() for agent in env.agents}\n",
    "    for agent in terminated_agents:\n",
    "        actions[agent] = None\n",
    "\n",
    "    observations, rewards, terminations, truncations, infos = env.step(actions)\n",
    "\n",
    "    # Terminate agents that are done\n",
    "    terminated_agents = {agent for agent, done in terminations.items() if done}\n",
    "    truncated_agents = {agent for agent, done in truncations.items() if done}\n",
    "    terminated_agents.update(truncated_agents)\n",
    "\n",
    "env.close()"
   ],
   "id": "f90bd3c26dcbc2c7",
   "outputs": [
    {
     "ename": "KeyboardInterrupt",
     "evalue": "",
     "output_type": "error",
     "traceback": [
      "\u001B[0;31m---------------------------------------------------------------------------\u001B[0m",
      "\u001B[0;31mKeyboardInterrupt\u001B[0m                         Traceback (most recent call last)",
      "Cell \u001B[0;32mIn[1], line 11\u001B[0m\n\u001B[1;32m      8\u001B[0m \u001B[38;5;28;01mfor\u001B[39;00m agent \u001B[38;5;129;01min\u001B[39;00m terminated_agents:\n\u001B[1;32m      9\u001B[0m     actions[agent] \u001B[38;5;241m=\u001B[39m \u001B[38;5;28;01mNone\u001B[39;00m\n\u001B[0;32m---> 11\u001B[0m observations, rewards, terminations, truncations, infos \u001B[38;5;241m=\u001B[39m env\u001B[38;5;241m.\u001B[39mstep(actions)\n\u001B[1;32m     13\u001B[0m \u001B[38;5;66;03m# Terminate agents that are done\u001B[39;00m\n\u001B[1;32m     14\u001B[0m terminated_agents \u001B[38;5;241m=\u001B[39m {agent \u001B[38;5;28;01mfor\u001B[39;00m agent, done \u001B[38;5;129;01min\u001B[39;00m terminations\u001B[38;5;241m.\u001B[39mitems() \u001B[38;5;28;01mif\u001B[39;00m done}\n",
      "File \u001B[0;32m/opt/miniconda3/envs/cmarl/lib/python3.11/site-packages/magent2/environments/magent_env.py:289\u001B[0m, in \u001B[0;36mmagent_parallel_env.step\u001B[0;34m(self, all_actions)\u001B[0m\n\u001B[1;32m    282\u001B[0m \u001B[38;5;28mself\u001B[39m\u001B[38;5;241m.\u001B[39magents \u001B[38;5;241m=\u001B[39m [\n\u001B[1;32m    283\u001B[0m     agent\n\u001B[1;32m    284\u001B[0m     \u001B[38;5;28;01mfor\u001B[39;00m agent \u001B[38;5;129;01min\u001B[39;00m \u001B[38;5;28mself\u001B[39m\u001B[38;5;241m.\u001B[39magents\n\u001B[1;32m    285\u001B[0m     \u001B[38;5;28;01mif\u001B[39;00m \u001B[38;5;129;01mnot\u001B[39;00m (terminations[agent] \u001B[38;5;129;01mor\u001B[39;00m truncations[agent])\n\u001B[1;32m    286\u001B[0m ]\n\u001B[1;32m    288\u001B[0m \u001B[38;5;28;01mif\u001B[39;00m \u001B[38;5;28mself\u001B[39m\u001B[38;5;241m.\u001B[39mrender_mode \u001B[38;5;241m==\u001B[39m \u001B[38;5;124m\"\u001B[39m\u001B[38;5;124mhuman\u001B[39m\u001B[38;5;124m\"\u001B[39m:\n\u001B[0;32m--> 289\u001B[0m     \u001B[38;5;28mself\u001B[39m\u001B[38;5;241m.\u001B[39mrender()\n\u001B[1;32m    290\u001B[0m \u001B[38;5;28;01mreturn\u001B[39;00m observations, rewards, terminations, truncations, infos\n",
      "File \u001B[0;32m/opt/miniconda3/envs/cmarl/lib/python3.11/site-packages/magent2/environments/magent_env.py:153\u001B[0m, in \u001B[0;36mmagent_parallel_env.render\u001B[0;34m(self)\u001B[0m\n\u001B[1;32m    149\u001B[0m     \u001B[38;5;28mself\u001B[39m\u001B[38;5;241m.\u001B[39m_renderer \u001B[38;5;241m=\u001B[39m Renderer(\u001B[38;5;28mself\u001B[39m\u001B[38;5;241m.\u001B[39menv, \u001B[38;5;28mself\u001B[39m\u001B[38;5;241m.\u001B[39mmap_size, \u001B[38;5;28mself\u001B[39m\u001B[38;5;241m.\u001B[39mrender_mode)\n\u001B[1;32m    150\u001B[0m \u001B[38;5;28;01massert\u001B[39;00m (\n\u001B[1;32m    151\u001B[0m     \u001B[38;5;28mself\u001B[39m\u001B[38;5;241m.\u001B[39mrender_mode \u001B[38;5;241m==\u001B[39m \u001B[38;5;28mself\u001B[39m\u001B[38;5;241m.\u001B[39m_renderer\u001B[38;5;241m.\u001B[39mmode\n\u001B[1;32m    152\u001B[0m ), \u001B[38;5;124m\"\u001B[39m\u001B[38;5;124mmode must be consistent across render calls\u001B[39m\u001B[38;5;124m\"\u001B[39m\n\u001B[0;32m--> 153\u001B[0m \u001B[38;5;28;01mreturn\u001B[39;00m \u001B[38;5;28mself\u001B[39m\u001B[38;5;241m.\u001B[39m_renderer\u001B[38;5;241m.\u001B[39mrender(\u001B[38;5;28mself\u001B[39m\u001B[38;5;241m.\u001B[39mrender_mode)\n",
      "File \u001B[0;32m/opt/miniconda3/envs/cmarl/lib/python3.11/site-packages/magent2/render.py:231\u001B[0m, in \u001B[0;36mRenderer.render\u001B[0;34m(self, mode)\u001B[0m\n\u001B[1;32m    224\u001B[0m         x, y \u001B[38;5;241m=\u001B[39m wall[\u001B[38;5;241m0\u001B[39m], wall[\u001B[38;5;241m1\u001B[39m]\n\u001B[1;32m    225\u001B[0m         \u001B[38;5;28;01mif\u001B[39;00m (\n\u001B[1;32m    226\u001B[0m             x \u001B[38;5;241m>\u001B[39m\u001B[38;5;241m=\u001B[39m x_range[\u001B[38;5;241m0\u001B[39m]\n\u001B[1;32m    227\u001B[0m             \u001B[38;5;129;01mand\u001B[39;00m x \u001B[38;5;241m<\u001B[39m\u001B[38;5;241m=\u001B[39m x_range[\u001B[38;5;241m1\u001B[39m]\n\u001B[1;32m    228\u001B[0m             \u001B[38;5;129;01mand\u001B[39;00m y \u001B[38;5;241m>\u001B[39m\u001B[38;5;241m=\u001B[39m y_range[\u001B[38;5;241m0\u001B[39m]\n\u001B[1;32m    229\u001B[0m             \u001B[38;5;129;01mand\u001B[39;00m y \u001B[38;5;241m<\u001B[39m\u001B[38;5;241m=\u001B[39m y_range[\u001B[38;5;241m1\u001B[39m]\n\u001B[1;32m    230\u001B[0m         ):\n\u001B[0;32m--> 231\u001B[0m             draw_rect_matrix(\n\u001B[1;32m    232\u001B[0m                 grid_map,\n\u001B[1;32m    233\u001B[0m                 (\u001B[38;5;241m127\u001B[39m, \u001B[38;5;241m127\u001B[39m, \u001B[38;5;241m127\u001B[39m),\n\u001B[1;32m    234\u001B[0m                 (\n\u001B[1;32m    235\u001B[0m                     x \u001B[38;5;241m*\u001B[39m grid_size \u001B[38;5;241m-\u001B[39m view_position[\u001B[38;5;241m0\u001B[39m],\n\u001B[1;32m    236\u001B[0m                     y \u001B[38;5;241m*\u001B[39m grid_size \u001B[38;5;241m-\u001B[39m view_position[\u001B[38;5;241m1\u001B[39m],\n\u001B[1;32m    237\u001B[0m                 ),\n\u001B[1;32m    238\u001B[0m                 grid_size,\n\u001B[1;32m    239\u001B[0m                 grid_size,\n\u001B[1;32m    240\u001B[0m                 resolution,\n\u001B[1;32m    241\u001B[0m             )\n\u001B[1;32m    242\u001B[0m pygame\u001B[38;5;241m.\u001B[39mpixelcopy\u001B[38;5;241m.\u001B[39marray_to_surface(\u001B[38;5;28mself\u001B[39m\u001B[38;5;241m.\u001B[39mcanvas, grid_map)\n\u001B[1;32m    244\u001B[0m \u001B[38;5;28;01mfor\u001B[39;00m key \u001B[38;5;129;01min\u001B[39;00m \u001B[38;5;28mself\u001B[39m\u001B[38;5;241m.\u001B[39mnew_data[\u001B[38;5;241m0\u001B[39m]:\n",
      "File \u001B[0;32m/opt/miniconda3/envs/cmarl/lib/python3.11/site-packages/magent2/render.py:54\u001B[0m, in \u001B[0;36mdraw_rect_matrix\u001B[0;34m(matrix, color, a, w, h, resolution)\u001B[0m\n\u001B[1;32m     35\u001B[0m     \u001B[38;5;28;01mimport\u001B[39;00m \u001B[38;5;21;01mpygame\u001B[39;00m\n\u001B[1;32m     37\u001B[0m     pygame\u001B[38;5;241m.\u001B[39mdraw\u001B[38;5;241m.\u001B[39mrect(\n\u001B[1;32m     38\u001B[0m         surface,\n\u001B[1;32m     39\u001B[0m         color,\n\u001B[0;32m   (...)\u001B[0m\n\u001B[1;32m     50\u001B[0m         ),\n\u001B[1;32m     51\u001B[0m     )\n\u001B[0;32m---> 54\u001B[0m \u001B[38;5;28;01mdef\u001B[39;00m \u001B[38;5;21mdraw_rect_matrix\u001B[39m(matrix, color, a, w, h, resolution):\n\u001B[1;32m     55\u001B[0m     x, y, w, h \u001B[38;5;241m=\u001B[39m \u001B[38;5;28mmap\u001B[39m(\n\u001B[1;32m     56\u001B[0m         \u001B[38;5;28mint\u001B[39m,\n\u001B[1;32m     57\u001B[0m         (\n\u001B[0;32m   (...)\u001B[0m\n\u001B[1;32m     62\u001B[0m         ),\n\u001B[1;32m     63\u001B[0m     )\n\u001B[1;32m     64\u001B[0m     matrix[\n\u001B[1;32m     65\u001B[0m         \u001B[38;5;28mmax\u001B[39m(x, \u001B[38;5;241m0\u001B[39m) : \u001B[38;5;28mmin\u001B[39m(x \u001B[38;5;241m+\u001B[39m w, resolution[\u001B[38;5;241m0\u001B[39m]), \u001B[38;5;28mmax\u001B[39m(y, \u001B[38;5;241m0\u001B[39m) : \u001B[38;5;28mmin\u001B[39m(h \u001B[38;5;241m+\u001B[39m y, resolution[\u001B[38;5;241m1\u001B[39m]), :\n\u001B[1;32m     66\u001B[0m     ] \u001B[38;5;241m=\u001B[39m color\n",
      "\u001B[0;31mKeyboardInterrupt\u001B[0m: "
     ]
    }
   ],
   "execution_count": 1
  },
  {
   "metadata": {},
   "cell_type": "code",
   "outputs": [],
   "execution_count": null,
   "source": "",
   "id": "5991b2715e3c3dad"
  }
 ],
 "metadata": {
  "kernelspec": {
   "display_name": "Python 3",
   "language": "python",
   "name": "python3"
  },
  "language_info": {
   "codemirror_mode": {
    "name": "ipython",
    "version": 2
   },
   "file_extension": ".py",
   "mimetype": "text/x-python",
   "name": "python",
   "nbconvert_exporter": "python",
   "pygments_lexer": "ipython2",
   "version": "2.7.6"
  }
 },
 "nbformat": 4,
 "nbformat_minor": 5
}
