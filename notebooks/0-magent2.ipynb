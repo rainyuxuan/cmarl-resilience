{
 "cells": [
  {
   "metadata": {},
   "cell_type": "markdown",
   "source": "# Experimenting with MAgent2 Environment",
   "id": "2a134a631d9a99a4"
  },
  {
   "metadata": {
    "ExecuteTime": {
     "end_time": "2024-12-03T21:42:28.498709Z",
     "start_time": "2024-12-03T21:42:28.493549Z"
    }
   },
   "cell_type": "code",
   "source": [
    "from magent2.environments import battle_v4\n",
    "import numpy as np\n"
   ],
   "id": "de2c7075cdfe66ba",
   "outputs": [],
   "execution_count": 15
  },
  {
   "metadata": {
    "ExecuteTime": {
     "end_time": "2024-12-05T20:53:09.730392Z",
     "start_time": "2024-12-05T20:52:45.786499Z"
    }
   },
   "cell_type": "code",
   "source": [
    "\n",
    "env = battle_v4.env(map_size=60, render_mode='human', max_cycles=100000)\n",
    "env.reset()\n",
    "for agent in env.agent_iter():\n",
    "    observation, reward, termination, truncation, info = env.last()\n",
    "    if  termination or truncation:\n",
    "        env.step(None)\n",
    "    else:\n",
    "        action = env.action_space(agent).sample()\n",
    "        env.step(action)\n",
    "    # If a team all terminated, break\n",
    "\n",
    "env.close()"
   ],
   "id": "3422c286b7137e69",
   "outputs": [
    {
     "name": "stdout",
     "output_type": "stream",
     "text": [
      "288 13\n",
      "287 13\n",
      "286 13\n",
      "285 13\n",
      "284 13\n",
      "283 13\n",
      "282 13\n",
      "281 13\n",
      "280 13\n",
      "279 13\n",
      "278 13\n",
      "277 13\n",
      "276 13\n",
      "275 13\n",
      "274 13\n",
      "273 13\n",
      "272 13\n",
      "271 13\n",
      "270 13\n",
      "269 13\n",
      "268 13\n",
      "267 13\n",
      "266 13\n",
      "265 13\n",
      "264 13\n",
      "263 13\n",
      "262 13\n",
      "261 13\n",
      "260 13\n",
      "259 13\n",
      "258 13\n",
      "257 13\n",
      "256 13\n",
      "255 13\n"
     ]
    },
    {
     "ename": "KeyboardInterrupt",
     "evalue": "",
     "output_type": "error",
     "traceback": [
      "\u001B[0;31m---------------------------------------------------------------------------\u001B[0m",
      "\u001B[0;31mKeyboardInterrupt\u001B[0m                         Traceback (most recent call last)",
      "Cell \u001B[0;32mIn[7], line 10\u001B[0m\n\u001B[1;32m      8\u001B[0m \u001B[38;5;28;01melse\u001B[39;00m:\n\u001B[1;32m      9\u001B[0m     action \u001B[38;5;241m=\u001B[39m env\u001B[38;5;241m.\u001B[39maction_space(agent)\u001B[38;5;241m.\u001B[39msample()\n\u001B[0;32m---> 10\u001B[0m     \u001B[43menv\u001B[49m\u001B[38;5;241;43m.\u001B[39;49m\u001B[43mstep\u001B[49m\u001B[43m(\u001B[49m\u001B[43maction\u001B[49m\u001B[43m)\u001B[49m\n\u001B[1;32m     11\u001B[0m \u001B[38;5;28;01mif\u001B[39;00m prev_num_agents \u001B[38;5;241m!=\u001B[39m env\u001B[38;5;241m.\u001B[39mnum_agents \u001B[38;5;129;01mor\u001B[39;00m prev_len_obs \u001B[38;5;241m!=\u001B[39m \u001B[38;5;28mlen\u001B[39m(observation):\n\u001B[1;32m     12\u001B[0m     prev_num_agents, prev_len_obs \u001B[38;5;241m=\u001B[39m env\u001B[38;5;241m.\u001B[39mnum_agents, \u001B[38;5;28mlen\u001B[39m(observation)\n",
      "File \u001B[0;32m/opt/miniconda3/envs/cmarl/lib/python3.9/site-packages/pettingzoo/utils/wrappers/order_enforcing.py:75\u001B[0m, in \u001B[0;36mOrderEnforcingWrapper.step\u001B[0;34m(self, action)\u001B[0m\n\u001B[1;32m     73\u001B[0m \u001B[38;5;28;01melse\u001B[39;00m:\n\u001B[1;32m     74\u001B[0m     \u001B[38;5;28mself\u001B[39m\u001B[38;5;241m.\u001B[39m_has_updated \u001B[38;5;241m=\u001B[39m \u001B[38;5;28;01mTrue\u001B[39;00m\n\u001B[0;32m---> 75\u001B[0m     \u001B[38;5;28;43msuper\u001B[39;49m\u001B[43m(\u001B[49m\u001B[43m)\u001B[49m\u001B[38;5;241;43m.\u001B[39;49m\u001B[43mstep\u001B[49m\u001B[43m(\u001B[49m\u001B[43maction\u001B[49m\u001B[43m)\u001B[49m\n",
      "File \u001B[0;32m/opt/miniconda3/envs/cmarl/lib/python3.9/site-packages/pettingzoo/utils/wrappers/base.py:108\u001B[0m, in \u001B[0;36mBaseWrapper.step\u001B[0;34m(self, action)\u001B[0m\n\u001B[1;32m    107\u001B[0m \u001B[38;5;28;01mdef\u001B[39;00m \u001B[38;5;21mstep\u001B[39m(\u001B[38;5;28mself\u001B[39m, action):\n\u001B[0;32m--> 108\u001B[0m     \u001B[38;5;28;43mself\u001B[39;49m\u001B[38;5;241;43m.\u001B[39;49m\u001B[43menv\u001B[49m\u001B[38;5;241;43m.\u001B[39;49m\u001B[43mstep\u001B[49m\u001B[43m(\u001B[49m\u001B[43maction\u001B[49m\u001B[43m)\u001B[49m\n\u001B[1;32m    110\u001B[0m     \u001B[38;5;28mself\u001B[39m\u001B[38;5;241m.\u001B[39magent_selection \u001B[38;5;241m=\u001B[39m \u001B[38;5;28mself\u001B[39m\u001B[38;5;241m.\u001B[39menv\u001B[38;5;241m.\u001B[39magent_selection\n\u001B[1;32m    111\u001B[0m     \u001B[38;5;28mself\u001B[39m\u001B[38;5;241m.\u001B[39mrewards \u001B[38;5;241m=\u001B[39m \u001B[38;5;28mself\u001B[39m\u001B[38;5;241m.\u001B[39menv\u001B[38;5;241m.\u001B[39mrewards\n",
      "File \u001B[0;32m/opt/miniconda3/envs/cmarl/lib/python3.9/site-packages/pettingzoo/utils/wrappers/assert_out_of_bounds.py:26\u001B[0m, in \u001B[0;36mAssertOutOfBoundsWrapper.step\u001B[0;34m(self, action)\u001B[0m\n\u001B[1;32m     16\u001B[0m \u001B[38;5;28;01mdef\u001B[39;00m \u001B[38;5;21mstep\u001B[39m(\u001B[38;5;28mself\u001B[39m, action):\n\u001B[1;32m     17\u001B[0m     \u001B[38;5;28;01massert\u001B[39;00m (\n\u001B[1;32m     18\u001B[0m         action \u001B[38;5;129;01mis\u001B[39;00m \u001B[38;5;28;01mNone\u001B[39;00m\n\u001B[1;32m     19\u001B[0m         \u001B[38;5;129;01mand\u001B[39;00m (\n\u001B[0;32m   (...)\u001B[0m\n\u001B[1;32m     24\u001B[0m         action\n\u001B[1;32m     25\u001B[0m     ), \u001B[38;5;124m\"\u001B[39m\u001B[38;5;124maction is not in action space\u001B[39m\u001B[38;5;124m\"\u001B[39m\n\u001B[0;32m---> 26\u001B[0m     \u001B[38;5;28;43msuper\u001B[39;49m\u001B[43m(\u001B[49m\u001B[43m)\u001B[49m\u001B[38;5;241;43m.\u001B[39;49m\u001B[43mstep\u001B[49m\u001B[43m(\u001B[49m\u001B[43maction\u001B[49m\u001B[43m)\u001B[49m\n",
      "File \u001B[0;32m/opt/miniconda3/envs/cmarl/lib/python3.9/site-packages/pettingzoo/utils/wrappers/base.py:108\u001B[0m, in \u001B[0;36mBaseWrapper.step\u001B[0;34m(self, action)\u001B[0m\n\u001B[1;32m    107\u001B[0m \u001B[38;5;28;01mdef\u001B[39;00m \u001B[38;5;21mstep\u001B[39m(\u001B[38;5;28mself\u001B[39m, action):\n\u001B[0;32m--> 108\u001B[0m     \u001B[38;5;28;43mself\u001B[39;49m\u001B[38;5;241;43m.\u001B[39;49m\u001B[43menv\u001B[49m\u001B[38;5;241;43m.\u001B[39;49m\u001B[43mstep\u001B[49m\u001B[43m(\u001B[49m\u001B[43maction\u001B[49m\u001B[43m)\u001B[49m\n\u001B[1;32m    110\u001B[0m     \u001B[38;5;28mself\u001B[39m\u001B[38;5;241m.\u001B[39magent_selection \u001B[38;5;241m=\u001B[39m \u001B[38;5;28mself\u001B[39m\u001B[38;5;241m.\u001B[39menv\u001B[38;5;241m.\u001B[39magent_selection\n\u001B[1;32m    111\u001B[0m     \u001B[38;5;28mself\u001B[39m\u001B[38;5;241m.\u001B[39mrewards \u001B[38;5;241m=\u001B[39m \u001B[38;5;28mself\u001B[39m\u001B[38;5;241m.\u001B[39menv\u001B[38;5;241m.\u001B[39mrewards\n",
      "File \u001B[0;32m/opt/miniconda3/envs/cmarl/lib/python3.9/site-packages/pettingzoo/utils/conversions.py:292\u001B[0m, in \u001B[0;36mparallel_to_aec_wrapper.step\u001B[0;34m(self, action)\u001B[0m\n\u001B[1;32m    290\u001B[0m \u001B[38;5;28mself\u001B[39m\u001B[38;5;241m.\u001B[39m_actions[\u001B[38;5;28mself\u001B[39m\u001B[38;5;241m.\u001B[39magent_selection] \u001B[38;5;241m=\u001B[39m action\n\u001B[1;32m    291\u001B[0m \u001B[38;5;28;01mif\u001B[39;00m \u001B[38;5;28mself\u001B[39m\u001B[38;5;241m.\u001B[39m_agent_selector\u001B[38;5;241m.\u001B[39mis_last():\n\u001B[0;32m--> 292\u001B[0m     obss, rews, terminations, truncations, infos \u001B[38;5;241m=\u001B[39m \u001B[38;5;28;43mself\u001B[39;49m\u001B[38;5;241;43m.\u001B[39;49m\u001B[43menv\u001B[49m\u001B[38;5;241;43m.\u001B[39;49m\u001B[43mstep\u001B[49m\u001B[43m(\u001B[49m\u001B[38;5;28;43mself\u001B[39;49m\u001B[38;5;241;43m.\u001B[39;49m\u001B[43m_actions\u001B[49m\u001B[43m)\u001B[49m\n\u001B[1;32m    294\u001B[0m     \u001B[38;5;28mself\u001B[39m\u001B[38;5;241m.\u001B[39m_observations \u001B[38;5;241m=\u001B[39m copy\u001B[38;5;241m.\u001B[39mcopy(obss)\n\u001B[1;32m    295\u001B[0m     \u001B[38;5;28mself\u001B[39m\u001B[38;5;241m.\u001B[39mterminations \u001B[38;5;241m=\u001B[39m copy\u001B[38;5;241m.\u001B[39mcopy(terminations)\n",
      "File \u001B[0;32m/opt/miniconda3/envs/cmarl/lib/python3.9/site-packages/magent2/environments/magent_env.py:289\u001B[0m, in \u001B[0;36mmagent_parallel_env.step\u001B[0;34m(self, all_actions)\u001B[0m\n\u001B[1;32m    282\u001B[0m \u001B[38;5;28mself\u001B[39m\u001B[38;5;241m.\u001B[39magents \u001B[38;5;241m=\u001B[39m [\n\u001B[1;32m    283\u001B[0m     agent\n\u001B[1;32m    284\u001B[0m     \u001B[38;5;28;01mfor\u001B[39;00m agent \u001B[38;5;129;01min\u001B[39;00m \u001B[38;5;28mself\u001B[39m\u001B[38;5;241m.\u001B[39magents\n\u001B[1;32m    285\u001B[0m     \u001B[38;5;28;01mif\u001B[39;00m \u001B[38;5;129;01mnot\u001B[39;00m (terminations[agent] \u001B[38;5;129;01mor\u001B[39;00m truncations[agent])\n\u001B[1;32m    286\u001B[0m ]\n\u001B[1;32m    288\u001B[0m \u001B[38;5;28;01mif\u001B[39;00m \u001B[38;5;28mself\u001B[39m\u001B[38;5;241m.\u001B[39mrender_mode \u001B[38;5;241m==\u001B[39m \u001B[38;5;124m\"\u001B[39m\u001B[38;5;124mhuman\u001B[39m\u001B[38;5;124m\"\u001B[39m:\n\u001B[0;32m--> 289\u001B[0m     \u001B[38;5;28;43mself\u001B[39;49m\u001B[38;5;241;43m.\u001B[39;49m\u001B[43mrender\u001B[49m\u001B[43m(\u001B[49m\u001B[43m)\u001B[49m\n\u001B[1;32m    290\u001B[0m \u001B[38;5;28;01mreturn\u001B[39;00m observations, rewards, terminations, truncations, infos\n",
      "File \u001B[0;32m/opt/miniconda3/envs/cmarl/lib/python3.9/site-packages/magent2/environments/magent_env.py:153\u001B[0m, in \u001B[0;36mmagent_parallel_env.render\u001B[0;34m(self)\u001B[0m\n\u001B[1;32m    149\u001B[0m     \u001B[38;5;28mself\u001B[39m\u001B[38;5;241m.\u001B[39m_renderer \u001B[38;5;241m=\u001B[39m Renderer(\u001B[38;5;28mself\u001B[39m\u001B[38;5;241m.\u001B[39menv, \u001B[38;5;28mself\u001B[39m\u001B[38;5;241m.\u001B[39mmap_size, \u001B[38;5;28mself\u001B[39m\u001B[38;5;241m.\u001B[39mrender_mode)\n\u001B[1;32m    150\u001B[0m \u001B[38;5;28;01massert\u001B[39;00m (\n\u001B[1;32m    151\u001B[0m     \u001B[38;5;28mself\u001B[39m\u001B[38;5;241m.\u001B[39mrender_mode \u001B[38;5;241m==\u001B[39m \u001B[38;5;28mself\u001B[39m\u001B[38;5;241m.\u001B[39m_renderer\u001B[38;5;241m.\u001B[39mmode\n\u001B[1;32m    152\u001B[0m ), \u001B[38;5;124m\"\u001B[39m\u001B[38;5;124mmode must be consistent across render calls\u001B[39m\u001B[38;5;124m\"\u001B[39m\n\u001B[0;32m--> 153\u001B[0m \u001B[38;5;28;01mreturn\u001B[39;00m \u001B[38;5;28;43mself\u001B[39;49m\u001B[38;5;241;43m.\u001B[39;49m\u001B[43m_renderer\u001B[49m\u001B[38;5;241;43m.\u001B[39;49m\u001B[43mrender\u001B[49m\u001B[43m(\u001B[49m\u001B[38;5;28;43mself\u001B[39;49m\u001B[38;5;241;43m.\u001B[39;49m\u001B[43mrender_mode\u001B[49m\u001B[43m)\u001B[49m\n",
      "File \u001B[0;32m/opt/miniconda3/envs/cmarl/lib/python3.9/site-packages/magent2/render.py:332\u001B[0m, in \u001B[0;36mRenderer.render\u001B[0;34m(self, mode)\u001B[0m\n\u001B[1;32m    330\u001B[0m \u001B[38;5;28;01mdel\u001B[39;00m observation\n\u001B[1;32m    331\u001B[0m \u001B[38;5;28;01mif\u001B[39;00m \u001B[38;5;28mself\u001B[39m\u001B[38;5;241m.\u001B[39mmode \u001B[38;5;241m==\u001B[39m \u001B[38;5;124m\"\u001B[39m\u001B[38;5;124mhuman\u001B[39m\u001B[38;5;124m\"\u001B[39m:\n\u001B[0;32m--> 332\u001B[0m     \u001B[43mpygame\u001B[49m\u001B[38;5;241;43m.\u001B[39;49m\u001B[43mdisplay\u001B[49m\u001B[38;5;241;43m.\u001B[39;49m\u001B[43mflip\u001B[49m\u001B[43m(\u001B[49m\u001B[43m)\u001B[49m\n\u001B[1;32m    333\u001B[0m \u001B[38;5;28;01mreturn\u001B[39;00m (\n\u001B[1;32m    334\u001B[0m     np\u001B[38;5;241m.\u001B[39mtranspose(new_observation, axes\u001B[38;5;241m=\u001B[39m(\u001B[38;5;241m1\u001B[39m, \u001B[38;5;241m0\u001B[39m, \u001B[38;5;241m2\u001B[39m))\n\u001B[1;32m    335\u001B[0m     \u001B[38;5;28;01mif\u001B[39;00m mode \u001B[38;5;241m==\u001B[39m \u001B[38;5;124m\"\u001B[39m\u001B[38;5;124mrgb_array\u001B[39m\u001B[38;5;124m\"\u001B[39m\n\u001B[1;32m    336\u001B[0m     \u001B[38;5;28;01melse\u001B[39;00m \u001B[38;5;28;01mNone\u001B[39;00m\n\u001B[1;32m    337\u001B[0m )\n",
      "\u001B[0;31mKeyboardInterrupt\u001B[0m: "
     ]
    }
   ],
   "execution_count": 7
  },
  {
   "metadata": {
    "ExecuteTime": {
     "end_time": "2024-12-03T21:51:44.316507Z",
     "start_time": "2024-12-03T21:51:44.306639Z"
    }
   },
   "cell_type": "code",
   "source": [
    "env = battle_v4.env(map_size=45, render_mode=\"rgb_array\", max_cycles=100000)\n",
    "env.observation_spaces\n",
    "\n",
    "from functools import reduce\n",
    "env.observation_spaces['red_0'].shape\n",
    "reduce((lambda x, y: x * y), env.observation_spaces['red_0'].shape)\n",
    "# env.observation_space('red_0').sample().flatten().shape"
   ],
   "id": "d91ce008f63cafe6",
   "outputs": [
    {
     "data": {
      "text/plain": [
       "845"
      ]
     },
     "execution_count": 38,
     "metadata": {},
     "output_type": "execute_result"
    }
   ],
   "execution_count": 38
  },
  {
   "metadata": {
    "ExecuteTime": {
     "end_time": "2024-12-03T22:38:02.683845Z",
     "start_time": "2024-12-03T22:38:02.680377Z"
    }
   },
   "cell_type": "code",
   "source": [
    "env.reset()\n",
    "env.action_spaces['red_0'].n\n",
    "type (env)\n"
   ],
   "id": "7b979e7b3f2e19f1",
   "outputs": [
    {
     "data": {
      "text/plain": [
       "pettingzoo.utils.wrappers.order_enforcing.OrderEnforcingWrapper"
      ]
     },
     "execution_count": 46,
     "metadata": {},
     "output_type": "execute_result"
    }
   ],
   "execution_count": 46
  },
  {
   "metadata": {},
   "cell_type": "markdown",
   "source": "## Parallel API",
   "id": "2cdd348452c45711"
  },
  {
   "metadata": {
    "ExecuteTime": {
     "end_time": "2024-12-05T20:54:29.253764Z",
     "start_time": "2024-12-05T20:54:20.648526Z"
    }
   },
   "cell_type": "code",
   "source": [
    "from magent2.environments import battle_v4\n",
    "env = battle_v4.parallel_env(map_size=60, render_mode='human', max_cycles=100000)\n",
    "# env.reset()['red_0']\n",
    "env.reset()\n",
    "\n",
    "prev_num_agents, prev_len_obs= 0, 0\n",
    "\n",
    "terminated_agents = set()\n",
    "while env.agents:\n",
    "    actions = {agent: env.action_space(agent).sample() for agent in env.agents}\n",
    "    for agent in terminated_agents:\n",
    "        actions[agent] = None\n",
    "\n",
    "    observations, rewards, terminations, truncations, infos = env.step(actions)\n",
    "\n",
    "    # Terminate agents that are done\n",
    "    terminated_agents = {agent for agent, done in terminations.items() if done}\n",
    "    truncated_agents = {agent for agent, done in truncations.items() if done}\n",
    "    terminated_agents.update(truncated_agents)\n",
    "\n",
    "    if prev_num_agents != env.num_agents or prev_len_obs != len(observations):\n",
    "        prev_num_agents, prev_len_obs = env.num_agents, len(observations)\n",
    "        print(env.num_agents, len(observations))\n",
    "\n",
    "env.close()"
   ],
   "id": "f90bd3c26dcbc2c7",
   "outputs": [
    {
     "name": "stdout",
     "output_type": "stream",
     "text": [
      "288 288\n",
      "287 288\n",
      "287 287\n",
      "286 287\n",
      "286 286\n",
      "285 286\n",
      "285 285\n",
      "284 285\n",
      "284 284\n",
      "283 284\n",
      "283 283\n",
      "282 283\n",
      "282 282\n",
      "281 282\n",
      "281 281\n",
      "280 281\n",
      "280 280\n",
      "279 280\n",
      "279 279\n",
      "278 279\n",
      "278 278\n",
      "277 278\n",
      "277 277\n",
      "276 277\n",
      "276 276\n",
      "275 276\n",
      "275 275\n",
      "274 275\n",
      "274 274\n",
      "273 274\n",
      "273 273\n",
      "272 273\n",
      "272 272\n",
      "271 272\n",
      "271 271\n",
      "270 271\n",
      "270 270\n",
      "269 270\n",
      "269 269\n"
     ]
    },
    {
     "ename": "KeyboardInterrupt",
     "evalue": "",
     "output_type": "error",
     "traceback": [
      "\u001B[0;31m---------------------------------------------------------------------------\u001B[0m",
      "\u001B[0;31mKeyboardInterrupt\u001B[0m                         Traceback (most recent call last)",
      "Cell \u001B[0;32mIn[9], line 14\u001B[0m\n\u001B[1;32m     11\u001B[0m \u001B[38;5;28;01mfor\u001B[39;00m agent \u001B[38;5;129;01min\u001B[39;00m terminated_agents:\n\u001B[1;32m     12\u001B[0m     actions[agent] \u001B[38;5;241m=\u001B[39m \u001B[38;5;28;01mNone\u001B[39;00m\n\u001B[0;32m---> 14\u001B[0m observations, rewards, terminations, truncations, infos \u001B[38;5;241m=\u001B[39m \u001B[43menv\u001B[49m\u001B[38;5;241;43m.\u001B[39;49m\u001B[43mstep\u001B[49m\u001B[43m(\u001B[49m\u001B[43mactions\u001B[49m\u001B[43m)\u001B[49m\n\u001B[1;32m     16\u001B[0m \u001B[38;5;66;03m# Terminate agents that are done\u001B[39;00m\n\u001B[1;32m     17\u001B[0m terminated_agents \u001B[38;5;241m=\u001B[39m {agent \u001B[38;5;28;01mfor\u001B[39;00m agent, done \u001B[38;5;129;01min\u001B[39;00m terminations\u001B[38;5;241m.\u001B[39mitems() \u001B[38;5;28;01mif\u001B[39;00m done}\n",
      "File \u001B[0;32m/opt/miniconda3/envs/cmarl/lib/python3.9/site-packages/magent2/environments/magent_env.py:261\u001B[0m, in \u001B[0;36mmagent_parallel_env.step\u001B[0;34m(self, all_actions)\u001B[0m\n\u001B[1;32m    259\u001B[0m \u001B[38;5;28;01mfor\u001B[39;00m i, agent \u001B[38;5;129;01min\u001B[39;00m \u001B[38;5;28menumerate\u001B[39m(\u001B[38;5;28mself\u001B[39m\u001B[38;5;241m.\u001B[39magents):\n\u001B[1;32m    260\u001B[0m     \u001B[38;5;28;01mif\u001B[39;00m agent \u001B[38;5;129;01min\u001B[39;00m all_actions:\n\u001B[0;32m--> 261\u001B[0m         action_list[i] \u001B[38;5;241m=\u001B[39m \u001B[43mall_actions\u001B[49m\u001B[43m[\u001B[49m\u001B[43magent\u001B[49m\u001B[43m]\u001B[49m\n\u001B[1;32m    263\u001B[0m all_actions \u001B[38;5;241m=\u001B[39m np\u001B[38;5;241m.\u001B[39masarray(action_list, dtype\u001B[38;5;241m=\u001B[39mnp\u001B[38;5;241m.\u001B[39mint32)\n\u001B[1;32m    264\u001B[0m start_point \u001B[38;5;241m=\u001B[39m \u001B[38;5;241m0\u001B[39m\n",
      "\u001B[0;31mKeyboardInterrupt\u001B[0m: "
     ]
    }
   ],
   "execution_count": 9
  },
  {
   "metadata": {},
   "cell_type": "code",
   "outputs": [],
   "execution_count": null,
   "source": "",
   "id": "5991b2715e3c3dad"
  }
 ],
 "metadata": {
  "kernelspec": {
   "display_name": "Python 3",
   "language": "python",
   "name": "python3"
  },
  "language_info": {
   "codemirror_mode": {
    "name": "ipython",
    "version": 2
   },
   "file_extension": ".py",
   "mimetype": "text/x-python",
   "name": "python",
   "nbconvert_exporter": "python",
   "pygments_lexer": "ipython2",
   "version": "2.7.6"
  }
 },
 "nbformat": 4,
 "nbformat_minor": 5
}
