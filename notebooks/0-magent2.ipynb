{
 "cells": [
  {
   "metadata": {},
   "cell_type": "markdown",
   "source": "# Experimenting with MAgent2 Environment",
   "id": "2a134a631d9a99a4"
  },
  {
   "metadata": {
    "jupyter": {
     "is_executing": true
    },
    "ExecuteTime": {
     "start_time": "2024-11-19T19:22:26.002580Z"
    }
   },
   "cell_type": "code",
   "source": [
    "from magent2.environments import battle_v4\n",
    "\n",
    "env = battle_v4.env(map_size=20, render_mode='human', max_cycles=100000)\n",
    "env.reset()\n",
    "for agent in env.agent_iter():\n",
    "    observation, reward, termination, truncation, info = env.last()\n",
    "    if  termination or truncation:\n",
    "        env.step(None)\n",
    "    else:\n",
    "        action = env.action_space(agent).sample()\n",
    "        env.step(action)\n",
    "\n",
    "    # If a team all terminated, break\n",
    "\n",
    "env.close()"
   ],
   "id": "3422c286b7137e69",
   "outputs": [],
   "execution_count": null
  },
  {
   "metadata": {},
   "cell_type": "code",
   "outputs": [],
   "execution_count": null,
   "source": "",
   "id": "f90bd3c26dcbc2c7"
  }
 ],
 "metadata": {
  "kernelspec": {
   "display_name": "Python 3",
   "language": "python",
   "name": "python3"
  },
  "language_info": {
   "codemirror_mode": {
    "name": "ipython",
    "version": 2
   },
   "file_extension": ".py",
   "mimetype": "text/x-python",
   "name": "python",
   "nbconvert_exporter": "python",
   "pygments_lexer": "ipython2",
   "version": "2.7.6"
  }
 },
 "nbformat": 4,
 "nbformat_minor": 5
}
