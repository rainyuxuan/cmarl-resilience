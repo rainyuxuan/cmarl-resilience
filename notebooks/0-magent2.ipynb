{
 "cells": [
  {
   "metadata": {},
   "cell_type": "markdown",
   "source": "# Experimenting with MAgent2 Environment",
   "id": "2a134a631d9a99a4"
  },
  {
   "metadata": {},
   "cell_type": "code",
   "source": [
    "from magent2.environments import battle_v4\n",
    "import numpy as np\n"
   ],
   "id": "de2c7075cdfe66ba",
   "outputs": [],
   "execution_count": null
  },
  {
   "metadata": {},
   "cell_type": "code",
   "source": [
    "\n",
    "\n",
    "env = battle_v4.env(map_size=20, render_mode='human', max_cycles=100000)\n",
    "env.reset()\n",
    "for agent in env.agent_iter():\n",
    "    observation, reward, termination, truncation, info = env.last()\n",
    "    if  termination or truncation:\n",
    "        env.step(None)\n",
    "    else:\n",
    "        action = env.action_space(agent).sample()\n",
    "        env.step(action)\n",
    "\n",
    "    # If a team all terminated, break\n",
    "\n",
    "env.close()"
   ],
   "id": "3422c286b7137e69",
   "outputs": [],
   "execution_count": null
  },
  {
   "metadata": {},
   "cell_type": "code",
   "source": [
    "env = battle_v4.env(map_size=45, render_mode=\"rgb_array\", max_cycles=100000)\n",
    "env.observation_spaces\n",
    "\n",
    "from functools import reduce\n",
    "env.observation_spaces['red_0'].shape\n",
    "reduce((lambda x, y: x * y), env.observation_spaces['red_0'].shape)\n",
    "# env.observation_space('red_0').sample().flatten().shape"
   ],
   "id": "d91ce008f63cafe6",
   "outputs": [],
   "execution_count": null
  },
  {
   "metadata": {},
   "cell_type": "code",
   "source": [
    "env.reset()\n",
    "env.action_spaces['red_0'].n\n",
    "type (env)\n"
   ],
   "id": "7b979e7b3f2e19f1",
   "outputs": [],
   "execution_count": null
  },
  {
   "metadata": {},
   "cell_type": "markdown",
   "source": "## Parallel API",
   "id": "2cdd348452c45711"
  },
  {
   "metadata": {},
   "cell_type": "code",
   "source": [
    "from magent2.environments import battle_v4\n",
    "env = battle_v4.parallel_env(map_size=20, render_mode='human', max_cycles=100000)\n",
    "env.reset()['red_0']\n",
    "# env.reset()\n",
    "\n",
    "# terminated_agents = set()\n",
    "# while env.agents:\n",
    "#     actions = {agent: env.action_space(agent).sample() for agent in env.agents}\n",
    "#     for agent in terminated_agents:\n",
    "#         actions[agent] = None\n",
    "#\n",
    "#     observations, rewards, terminations, truncations, infos = env.step(actions)\n",
    "#\n",
    "#     # Terminate agents that are done\n",
    "#     terminated_agents = {agent for agent, done in terminations.items() if done}\n",
    "#     truncated_agents = {agent for agent, done in truncations.items() if done}\n",
    "#     terminated_agents.update(truncated_agents)\n",
    "#\n",
    "# env.close()"
   ],
   "id": "f90bd3c26dcbc2c7",
   "outputs": [],
   "execution_count": null
  },
  {
   "metadata": {
    "ExecuteTime": {
     "end_time": "2024-12-08T02:05:00.856828Z",
     "start_time": "2024-12-08T02:04:51.899179Z"
    }
   },
   "cell_type": "code",
   "source": [
    "from magent2.environments import tiger_deer_v4\n",
    "env = tiger_deer_v4.parallel_env(map_size=20, render_mode='human', max_cycles=1000, tiger_step_recover=0)\n",
    "env.reset()\n",
    "# env.reset()\n",
    "cnt_cycle = 0\n",
    "\n",
    "terminated_agents = set()\n",
    "acc_rewards = {agent: 0 for agent in env.agents}\n",
    "action_stats = {agent: {action: 0 for action in range(0, 14)} for agent in env.agents}\n",
    "while env.agents:\n",
    "    actions = {agent: env.action_space(agent).sample() for agent in env.agents}\n",
    "    for agent in terminated_agents:\n",
    "        actions[agent] = None\n",
    "\n",
    "    observations, rewards, terminations, truncations, infos = env.step(actions)\n",
    "\n",
    "    # Terminate agents that are done\n",
    "    terminated_agents = {agent for agent, done in terminations.items() if done}\n",
    "    truncated_agents = {agent for agent, done in truncations.items() if done}\n",
    "    terminated_agents.update(truncated_agents)\n",
    "\n",
    "    for agent in env.agents:\n",
    "        acc_rewards[agent] += rewards[agent]\n",
    "        action_stats[agent][actions[agent]] += 1\n",
    "\n",
    "    cnt_cycle += 1\n",
    "    if cnt_cycle % 100 == 0:\n",
    "        with open('../data/cycle.txt', 'a') as f:\n",
    "            f.write(f'{cnt_cycle}, {action_stats}\\n')\n",
    "            f.write(f'{cnt_cycle}, {acc_rewards}\\n')\n",
    "\n",
    "env.close()"
   ],
   "id": "5991b2715e3c3dad",
   "outputs": [],
   "execution_count": 3
  }
 ],
 "metadata": {
  "kernelspec": {
   "display_name": "Python 3",
   "language": "python",
   "name": "python3"
  },
  "language_info": {
   "codemirror_mode": {
    "name": "ipython",
    "version": 2
   },
   "file_extension": ".py",
   "mimetype": "text/x-python",
   "name": "python",
   "nbconvert_exporter": "python",
   "pygments_lexer": "ipython2",
   "version": "2.7.6"
  }
 },
 "nbformat": 4,
 "nbformat_minor": 5
}
